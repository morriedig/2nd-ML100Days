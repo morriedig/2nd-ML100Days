{
 "cells": [
  {
   "cell_type": "code",
   "execution_count": 56,
   "metadata": {},
   "outputs": [
    {
     "ename": "SyntaxError",
     "evalue": "invalid syntax (<ipython-input-56-82b594efe6c4>, line 1)",
     "output_type": "error",
     "traceback": [
      "\u001b[0;36m  File \u001b[0;32m\"<ipython-input-56-82b594efe6c4>\"\u001b[0;36m, line \u001b[0;32m1\u001b[0m\n\u001b[0;31m    作業1:請上 Kaggle, 在 Competitions 或 Dataset 中找一組競賽或資料並寫下：\u001b[0m\n\u001b[0m                ^\u001b[0m\n\u001b[0;31mSyntaxError\u001b[0m\u001b[0;31m:\u001b[0m invalid syntax\n"
     ]
    }
   ],
   "source": [
    "作業1:請上 Kaggle, 在 Competitions 或 Dataset 中找一組競賽或資料並寫下：\n",
    "    Google Play Store Apps-Web scraped data of 10k Play Store apps for analysing the Android market.\n",
    "    \n",
    "    Q1.你選的這組資料為何重要\n",
    "        對現代人而言，手機的依賴性已遠遠超過電腦，而今為止，已有數以萬計的 App 軟體，在 App stroe 上販售。有必要了解目前最受歡迎的 App 有哪些，並且清楚知道，怎樣的 App 是使用者想要的。\n",
    "    Q2.資料從何而來 (tips: 譬如提供者是誰、以什麼方式蒐集)\n",
    "        資料是透過 web scraping 抓取 Google Play Store 的資料。\n",
    "    Q3.蒐集而來的資料型態為何\n",
    "        csv\n",
    "    Q4.你要回答的問題，其如何評估 (tips：你的假設如何驗證)\n",
    "        藉由下載量找出目前哪些 App 是最受歡迎的。並且透過使用者評分、評論數量等數據，預測哪個 App 會是最具成長性的。"
   ]
  },
  {
   "cell_type": "code",
   "execution_count": null,
   "metadata": {},
   "outputs": [],
   "source": [
    "作業2：想像你經營一個自由載客車隊，你希望能透過數據分析以提升業績，請你思考並描述你如何規劃整體的分析/解決方案：\n",
    "\n",
    "    Q1.核心問題為何 (tips：如何定義 「提升業績 & 你的假設」)\n",
    "        我認為自由載客車隊(Taxi)，可能花了大部分的時間，在等待客人上門，所以希望透過資源配置，有效減少車隊空車時間。\n",
    "        如果能增加乘客的回客率，減少車隊等待乘客的時間，並且統計熟客的乘車地點與載客尖峰時段，做有效率的資源配置，便能提升車隊業績。        \n",
    "    Q2.資料從何而來 (tips：哪些資料可能會對你想問的問題產生影響 & 資料如何蒐集)\n",
    "        統計計程車業績、乘客叫車率、與空車時間比較 => 確認上述的推測正確\n",
    "        統計搭乘路線、車隊營業時間、乘客搭乘時間 => 確認乘客尖峰時段、搭車熱門地點與車隊營業的尖峰時段 => 尋找適合車隊的營運時間\n",
    "        計程車新舊程度、司機職業長度 => 確認回客率，與哪些因素有關係\n",
    "        \n",
    "        可至交通部統計處查詢目前計程車的營運狀況：https://srda.sinica.edu.tw/portal_c1_page.php?button_num=c1&cnt_id=1697\n",
    "        \n",
    "    Q3.蒐集而來的資料型態為何\n",
    "        數值與圖片\n",
    "    Q4.你要回答的問題，其如何評估 (tips：你的假設如何驗證)\n",
    "        先確定，車隊的業績是否與乘客的回客率有關係 => 比較業績好的車隊，與業績不好的車隊的回客率\n",
    "        如果是正相關：\n",
    "            找出這些回客率高的原因，是否是因為計程車的老舊或是司機服務的關係。\n",
    "        如果無關：\n",
    "            找出業績好的車隊，統計的營業時間與地點 => 針對其開車路線與時段，做出有效的資源分配"
   ]
  },
  {
   "cell_type": "code",
   "execution_count": null,
   "metadata": {},
   "outputs": [],
   "source": [
    "作業3：請寫一個函式用來計算 Mean Square Error\n",
    "    $ MSE = \\frac{1}{n}\\sum_{i=1}^{n}{(Y_i - \\hat{Y}_i)^2} $"
   ]
  },
  {
   "cell_type": "code",
   "execution_count": 61,
   "metadata": {},
   "outputs": [
    {
     "name": "stdout",
     "output_type": "stream",
     "text": [
      "The Mean absolute error is 12.590\n",
      "The Mean absolute error is 12.590\n"
     ]
    }
   ],
   "source": [
    "import numpy as np\n",
    "import matplotlib.pyplot as plt\n",
    "\n",
    "\n",
    "def mean_absolute_error(y, yp):\n",
    "    \"\"\"\n",
    "    計算 MAE\n",
    "    Args:\n",
    "        - y: 實際值\n",
    "        - yp: 預測值\n",
    "    Return:\n",
    "        - mae: MAE\n",
    "    \"\"\"\n",
    "    mae = MAE = sum(abs(y - yp)) / len(y)\n",
    "    return mae\n",
    "\n",
    "MAE = mean_absolute_error(y, y_hat)\n",
    "print(\"The Mean absolute error is %.3f\" % (MAE))\n",
    "\n",
    "def mean_squared_error(y, yp):\n",
    "    mse = MSE = sum((y - yp)**2) / len(y)\n",
    "    return mse\n",
    "\n",
    "MSE = mean_squared_error(y, y_hat)\n",
    "print(\"The Mean absolute error is %.3f\" % (MSE))"
   ]
  },
  {
   "cell_type": "code",
   "execution_count": 57,
   "metadata": {},
   "outputs": [
    {
     "data": {
      "image/png": "[encoded data removed]",
      "text/plain": [
       "<Figure size 432x288 with 1 Axes>"
      ]
     },
     "metadata": {
      "needs_background": "light"
     },
     "output_type": "display_data"
    }
   ],
   "source": [
    "w = 3\n",
    "b = 0.5\n",
    "\n",
    "x_lin = np.linspace(0, 100, 101)\n",
    "\n",
    "y = (x_lin + np.random.randn(101) * 5) * w + b\n",
    "\n",
    "plt.plot(x_lin, y, 'b.', label = 'data points')\n",
    "plt.title(\"Assume we have data points\")\n",
    "plt.legend(loc = 2)\n",
    "plt.show()"
   ]
  },
  {
   "cell_type": "code",
   "execution_count": 58,
   "metadata": {},
   "outputs": [
    {
     "data": {
      "image/png": "[encoded data removed]",
      "text/plain": [
       "<Figure size 432x288 with 1 Axes>"
      ]
     },
     "metadata": {
      "needs_background": "light"
     },
     "output_type": "display_data"
    }
   ],
   "source": [
    "y_hat = x_lin * w + b\n",
    "plt.plot(x_lin, y, 'b.', label = 'data')\n",
    "plt.plot(x_lin, y_hat, 'r-', label = 'prediction')\n",
    "plt.title(\"Assume we have data points (And the prediction)\")\n",
    "plt.legend(loc = 2)\n",
    "plt.show()"
   ]
  },
  {
   "cell_type": "code",
   "execution_count": 59,
   "metadata": {},
   "outputs": [
    {
     "name": "stdout",
     "output_type": "stream",
     "text": [
      "The Mean squared error is 239.978\n",
      "The Mean absolute error is 12.590\n",
      "The Mean squared error is 239.978\n",
      "The Mean absolute error is 12.590\n"
     ]
    }
   ],
   "source": [
    "# 執行 Function, 確認有沒有正常執行\n",
    "MSE = mean_squared_error(y, y_hat)\n",
    "MAE = mean_absolute_error(y, y_hat)\n",
    "print(\"The Mean squared error is %.3f\" % (MSE))\n",
    "print(\"The Mean absolute error is %.3f\" % (MAE))\n",
    "\n",
    "MSE2 = mean_squared_error2(y, y_hat)\n",
    "MAE2 = mean_absolute_error2(y, y_hat)\n",
    "print(\"The Mean squared error is %.3f\" % (MSE2))\n",
    "print(\"The Mean absolute error is %.3f\" % (MAE2))"
   ]
  },
  {
   "cell_type": "code",
   "execution_count": null,
   "metadata": {},
   "outputs": [],
   "source": []
  },
  {
   "cell_type": "code",
   "execution_count": null,
   "metadata": {},
   "outputs": [],
   "source": []
  }
 ],
 "metadata": {
  "kernelspec": {
   "display_name": "Python 3",
   "language": "python",
   "name": "python3"
  },
  "language_info": {
   "codemirror_mode": {
    "name": "ipython",
    "version": 3
   },
   "file_extension": ".py",
   "mimetype": "text/x-python",
   "name": "python",
   "nbconvert_exporter": "python",
   "pygments_lexer": "ipython3",
   "version": "3.7.3"
  }
 },
 "nbformat": 4,
 "nbformat_minor": 2
}
